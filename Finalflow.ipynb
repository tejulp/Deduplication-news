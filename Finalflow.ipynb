{
 "cells": [
  {
   "cell_type": "markdown",
   "id": "49d5ea29",
   "metadata": {},
   "source": [
    "# Code to identify similar news articles across various sources"
   ]
  },
  {
   "cell_type": "markdown",
   "id": "5f73fbe0",
   "metadata": {},
   "source": [
    "This module covers grouping of similar news articles based on its semantic structure. For this purpose, Doc2Vec is trained from scratch on available news articles from various sources and then, tested on latest news extracted from certain news web-pages.\n",
    "\n",
    "The code to collect latest news data is maintained at Data_Extraction.ipynb"
   ]
  },
  {
   "cell_type": "code",
   "execution_count": null,
   "id": "69d5d8c5",
   "metadata": {
    "scrolled": true
   },
   "outputs": [],
   "source": [
    "import sys\n",
    "!{sys.executable} -m pip install -r requirements.txt"
   ]
  },
  {
   "cell_type": "markdown",
   "id": "29108857",
   "metadata": {},
   "source": [
    "Import Libraries"
   ]
  },
  {
   "cell_type": "code",
   "execution_count": null,
   "id": "cce5fb47",
   "metadata": {},
   "outputs": [],
   "source": [
    "import pandas as pd\n",
    "import deduplicate\n",
    "import def_func"
   ]
  },
  {
   "cell_type": "markdown",
   "id": "91cfd02d",
   "metadata": {},
   "source": [
    "Setting threshold value for identifying similar articles"
   ]
  },
  {
   "cell_type": "code",
   "execution_count": null,
   "id": "9e8df5a0",
   "metadata": {},
   "outputs": [],
   "source": [
    "threshold = 0.7"
   ]
  },
  {
   "cell_type": "markdown",
   "id": "688b1b4f",
   "metadata": {},
   "source": [
    "Reading input data"
   ]
  },
  {
   "cell_type": "code",
   "execution_count": null,
   "id": "68affcb5",
   "metadata": {
    "scrolled": true
   },
   "outputs": [],
   "source": [
    "f1 = pd.read_csv(\"/Users/tejulpandit/Desktop/Tejul/Code-Deduplication/articles1.csv\")\n",
    "f2 = pd.read_csv(\"/Users/tejulpandit/Desktop/Tejul/Code-Deduplication/articles2.csv\")\n",
    "f3 = pd.read_csv(\"/Users/tejulpandit/Desktop/Tejul/Code-Deduplication/articles3.csv\")\n",
    "print(len(f1), len(f2), len(f3))"
   ]
  },
  {
   "cell_type": "code",
   "execution_count": null,
   "id": "9d7a6ccf",
   "metadata": {},
   "outputs": [],
   "source": [
    "news_df = pd.concat([f1, f2, f3], axis=0)"
   ]
  },
  {
   "cell_type": "code",
   "execution_count": null,
   "id": "4f0d6f39",
   "metadata": {
    "scrolled": true
   },
   "outputs": [],
   "source": [
    "news_df.rename(columns = {'Unnamed: 0' : 'index'}, inplace = True)\n",
    "news_df"
   ]
  },
  {
   "cell_type": "markdown",
   "id": "9202803a",
   "metadata": {},
   "source": [
    "Training Doc2Vec model"
   ]
  },
  {
   "cell_type": "code",
   "execution_count": null,
   "id": "32a977bd",
   "metadata": {
    "scrolled": true
   },
   "outputs": [],
   "source": [
    "model = deduplicate.deduplication(news_df)"
   ]
  },
  {
   "cell_type": "markdown",
   "id": "02555028",
   "metadata": {},
   "source": [
    "Testing with new data extracted from news websites"
   ]
  },
  {
   "cell_type": "code",
   "execution_count": null,
   "id": "c7d06eb9",
   "metadata": {},
   "outputs": [],
   "source": [
    "test_df = pd.read_csv(\"/Users/tejulpandit/Desktop/Tejul/Code-Deduplication/News_Data_Extraction.csv\")"
   ]
  },
  {
   "cell_type": "code",
   "execution_count": null,
   "id": "94af36e9",
   "metadata": {
    "scrolled": true
   },
   "outputs": [],
   "source": [
    "test_df['clean_headlines'] = test_df['Headline'].apply(def_func.clean_headlines)\n",
    "test_df['Cluster_ID'] = def_func.clustering(model, test_df['clean_headlines'].astype(str), threshold)\n",
    "test_df"
   ]
  }
 ],
 "metadata": {
  "kernelspec": {
   "display_name": "Python 3",
   "language": "python",
   "name": "python3"
  },
  "language_info": {
   "codemirror_mode": {
    "name": "ipython",
    "version": 3
   },
   "file_extension": ".py",
   "mimetype": "text/x-python",
   "name": "python",
   "nbconvert_exporter": "python",
   "pygments_lexer": "ipython3",
   "version": "3.7.5"
  }
 },
 "nbformat": 4,
 "nbformat_minor": 5
}
